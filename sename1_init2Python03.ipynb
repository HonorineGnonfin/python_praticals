{
 "cells": [
  {
   "cell_type": "markdown",
   "id": "972d52d4",
   "metadata": {},
   "source": [
    "Q1"
   ]
  },
  {
   "cell_type": "code",
   "execution_count": null,
   "id": "f486e501",
   "metadata": {},
   "outputs": [],
   "source": [
    "def affiche(chaine):\n",
    "    for i in range(len(chaine)):\n",
    "        print(chaine[i])"
   ]
  },
  {
   "cell_type": "markdown",
   "id": "353c6a2e",
   "metadata": {},
   "source": [
    "Q2"
   ]
  },
  {
   "cell_type": "markdown",
   "id": "ba3ac115",
   "metadata": {},
   "source": [
    "a)"
   ]
  },
  {
   "cell_type": "code",
   "execution_count": 25,
   "id": "964de265",
   "metadata": {},
   "outputs": [],
   "source": [
    "def M(ch1,ch2):\n",
    "    print(''.join(sorted(ch1+ch2)))"
   ]
  },
  {
   "cell_type": "code",
   "execution_count": 26,
   "id": "64bd6155",
   "metadata": {},
   "outputs": [
    {
     "name": "stdout",
     "output_type": "stream",
     "text": [
      "  deeijjorrss\n"
     ]
    }
   ],
   "source": [
    "M(\"je dors\",\"je ris\")"
   ]
  },
  {
   "cell_type": "markdown",
   "id": "3635b671",
   "metadata": {},
   "source": [
    "b)"
   ]
  },
  {
   "cell_type": "code",
   "execution_count": 27,
   "id": "778e332e",
   "metadata": {},
   "outputs": [
    {
     "name": "stdout",
     "output_type": "stream",
     "text": [
      "  deeiiiiiiiiiiijjoooooooorrss\n"
     ]
    }
   ],
   "source": [
    "M(\"je doooooooors\",\"je riiiiiiiiiiis\")"
   ]
  },
  {
   "cell_type": "markdown",
   "id": "10ed981c",
   "metadata": {},
   "source": [
    "c)"
   ]
  },
  {
   "cell_type": "code",
   "execution_count": 28,
   "id": "aff0c423",
   "metadata": {},
   "outputs": [],
   "source": [
    "def S(ch):\n",
    "    print(\"\".join(sorted(ch)))"
   ]
  },
  {
   "cell_type": "code",
   "execution_count": 30,
   "id": "d61f5f88",
   "metadata": {},
   "outputs": [
    {
     "name": "stdout",
     "output_type": "stream",
     "text": [
      "abbdggijknnoppprruuuvy\n"
     ]
    }
   ],
   "source": [
    "S(\"pouuabdnjuipknbvggyrpr\")"
   ]
  },
  {
   "cell_type": "markdown",
   "id": "b1c0c756",
   "metadata": {},
   "source": [
    "2 Searching"
   ]
  },
  {
   "cell_type": "markdown",
   "id": "9092a9f7",
   "metadata": {},
   "source": [
    "1-"
   ]
  },
  {
   "cell_type": "code",
   "execution_count": 38,
   "id": "5cea7bdc",
   "metadata": {},
   "outputs": [],
   "source": [
    "def _find_(chaine,lettre):\n",
    "    return chaine.find(lettre)"
   ]
  },
  {
   "cell_type": "code",
   "execution_count": 40,
   "id": "1184b5c9",
   "metadata": {},
   "outputs": [
    {
     "data": {
      "text/plain": [
       "4"
      ]
     },
     "execution_count": 40,
     "metadata": {},
     "output_type": "execute_result"
    }
   ],
   "source": [
    "_find_(\"Assignment\",'g')"
   ]
  },
  {
   "cell_type": "markdown",
   "id": "d292e1d6",
   "metadata": {},
   "source": [
    "2-"
   ]
  },
  {
   "cell_type": "code",
   "execution_count": 41,
   "id": "343779ec",
   "metadata": {},
   "outputs": [],
   "source": [
    "def _find2(chaine,lettre,index):\n",
    "    return chaine[index: ].find(lettre)"
   ]
  },
  {
   "cell_type": "code",
   "execution_count": 44,
   "id": "7c9e3604",
   "metadata": {},
   "outputs": [
    {
     "data": {
      "text/plain": [
       "-1"
      ]
     },
     "execution_count": 44,
     "metadata": {},
     "output_type": "execute_result"
    }
   ],
   "source": [
    "_find2(\"Assignment\",'s',6)"
   ]
  }
 ],
 "metadata": {
  "kernelspec": {
   "display_name": "Python 3",
   "language": "python",
   "name": "python3"
  },
  "language_info": {
   "codemirror_mode": {
    "name": "ipython",
    "version": 3
   },
   "file_extension": ".py",
   "mimetype": "text/x-python",
   "name": "python",
   "nbconvert_exporter": "python",
   "pygments_lexer": "ipython3",
   "version": "3.8.8"
  }
 },
 "nbformat": 4,
 "nbformat_minor": 5
}
