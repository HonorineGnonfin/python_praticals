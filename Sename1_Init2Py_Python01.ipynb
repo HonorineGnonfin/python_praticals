{
 "cells": [
  {
   "cell_type": "markdown",
   "metadata": {},
   "source": [
    "1 SUMMATIONS AND PRODUCTS"
   ]
  },
  {
   "cell_type": "markdown",
   "metadata": {},
   "source": [
    "Q1 "
   ]
  },
  {
   "cell_type": "code",
   "execution_count": 2,
   "metadata": {},
   "outputs": [
    {
     "name": "stdout",
     "output_type": "stream",
     "text": [
      "10\n",
      "40\n",
      "10395\n"
     ]
    }
   ],
   "source": [
    "n=int(input(\"Entrez un nombre entier naturel: \"))\n",
    "s=0\n",
    "for i in range(n):\n",
    "    if i%2==1:\n",
    "        s+=(i+3)\n",
    "print(s)\n",
    "p=1\n",
    "for i in range(n):\n",
    "    if i%2==0:\n",
    "        p*=(i+3)\n",
    "print(p)"
   ]
  },
  {
   "cell_type": "markdown",
   "metadata": {},
   "source": [
    "Q2"
   ]
  },
  {
   "cell_type": "code",
   "execution_count": 9,
   "metadata": {},
   "outputs": [
    {
     "name": "stdout",
     "output_type": "stream",
     "text": [
      "Entrez le numéro du jour: 2\n",
      "Mercredi\n"
     ]
    }
   ],
   "source": [
    "jours_de_la_semaime=[\"Lundi\",\"Mardi\",\"Mercredi\",\"Jeudi\",\"Vendredi\",\"Samedi\",\"Dimanche\"]\n",
    "num=int(input(\"Entrez le numéro du jour: \"))\n",
    "if num in range(4):\n",
    "    print(jours_de_la_semaime[num])\n",
    "else:\n",
    "    print(\"Weekend\")"
   ]
  },
  {
   "cell_type": "markdown",
   "metadata": {},
   "source": [
    "Q3"
   ]
  },
  {
   "cell_type": "code",
   "execution_count": 20,
   "metadata": {},
   "outputs": [
    {
     "name": "stdout",
     "output_type": "stream",
     "text": [
      "Entrez le numéro du mois compris entre 0 et 11: 11\n",
      "Ce mois compte  31 jours.\n"
     ]
    }
   ],
   "source": [
    "Mois_de_lannée=[31,28,31,30,31,30,31,31,30,31,30,31]\n",
    "num=int(input(\"Entrez le numéro du mois compris entre 0 et 11: \"))\n",
    "print(\"Ce mois compte \",Mois_de_lannée[num], \"jours.\")"
   ]
  },
  {
   "cell_type": "markdown",
   "metadata": {},
   "source": [
    "Q4"
   ]
  },
  {
   "cell_type": "code",
   "execution_count": 23,
   "metadata": {
    "scrolled": true
   },
   "outputs": [
    {
     "name": "stdout",
     "output_type": "stream",
     "text": [
      "\n",
      "\n",
      "\n"
     ]
    }
   ],
   "source": [
    "for i in range(3):\n",
    "    print(\"Honorine\")"
   ]
  },
  {
   "cell_type": "code",
   "execution_count": 25,
   "metadata": {},
   "outputs": [
    {
     "name": "stdout",
     "output_type": "stream",
     "text": [
      "Honorine\n",
      "Honorine\n",
      "Honorine\n"
     ]
    }
   ],
   "source": [
    "i=1\n",
    "while i<=3:\n",
    "    print(\"Honorine\")\n",
    "    i+=1"
   ]
  },
  {
   "cell_type": "markdown",
   "metadata": {},
   "source": [
    "Q5"
   ]
  },
  {
   "cell_type": "code",
   "execution_count": 26,
   "metadata": {},
   "outputs": [
    {
     "name": "stdout",
     "output_type": "stream",
     "text": [
      "Entrez les valeurs initiales de la suite: \n",
      "0\n",
      "1\n",
      "Les 15 premiers termes de votre suite sont: \n",
      "0\n",
      "1\n",
      "1\n",
      "2\n",
      "3\n",
      "5\n",
      "8\n",
      "13\n",
      "21\n",
      "34\n",
      "55\n",
      "89\n",
      "144\n",
      "233\n",
      "377\n",
      "610\n"
     ]
    }
   ],
   "source": [
    "print(\"Entrez les valeurs initiales de la suite: \")\n",
    "a0=int(input( ))\n",
    "a1=int(input( ))\n",
    "print(\"Les 15 premiers termes de votre suite sont: \")\n",
    "print(a0)\n",
    "print(a1)\n",
    "for i in range(2,16):\n",
    "    ap=a1+a0\n",
    "    print(ap)\n",
    "    c=a1\n",
    "    a1=ap\n",
    "    a0=c"
   ]
  },
  {
   "cell_type": "markdown",
   "metadata": {},
   "source": [
    "Q6"
   ]
  },
  {
   "cell_type": "code",
   "execution_count": 29,
   "metadata": {},
   "outputs": [
    {
     "name": "stdout",
     "output_type": "stream",
     "text": [
      "Entrez les valeurs initiales de la séquence: \n",
      "0\n",
      "1\n",
      "Les 30 premiers termes de votre suite sont: \n",
      "0\n",
      "1\n",
      "0.5\n",
      "3.25\n",
      "3.125\n",
      "11.3125\n",
      "15.03125\n",
      "41.453125\n",
      "65.8203125\n",
      "157.26953125\n",
      "276.095703125\n",
      "609.8564453125\n",
      "1133.21533203125\n",
      "2396.177001953125\n",
      "4597.7344970703125\n",
      "9487.398254394531\n",
      "18536.902618408203\n",
      "37730.646072387695\n",
      "74476.03089141846\n",
      "150429.9536628723\n",
      "298643.0695056915\n",
      "600611.3957414627\n",
      "1196234.906387806\n",
      "2399951.640418291\n",
      "4788680.539372563\n",
      "9594195.190941155\n",
      "19163139.213588268\n",
      "38364155.1796176\n",
      "76671495.2305736\n",
      "153428213.15413958\n"
     ]
    }
   ],
   "source": [
    "print(\"Entrez les valeurs initiales de la séquence: \")\n",
    "x0=int(input( ))\n",
    "x1=int(input( ))\n",
    "print(\"Les 30 premiers termes de votre suite sont: \")\n",
    "print(x0)\n",
    "print(x1)\n",
    "for i in range(2,30):\n",
    "    xp=0.5*(x1+6*x0)\n",
    "    print(xp)\n",
    "    c=x1\n",
    "    x1=xp\n",
    "    x0=c"
   ]
  },
  {
   "cell_type": "markdown",
   "metadata": {},
   "source": [
    "Q7"
   ]
  },
  {
   "cell_type": "markdown",
   "metadata": {},
   "source": [
    "\n",
    "    Si une année est divisible par 4, 100 et 400, il s’agit d’une année bissextile.\n",
    "    Si une année est divisible par 4 mais pas par 100, il s’agit d’une année bissextile.\n"
   ]
  },
  {
   "cell_type": "markdown",
   "metadata": {},
   "source": [
    "a)"
   ]
  },
  {
   "cell_type": "code",
   "execution_count": 4,
   "metadata": {},
   "outputs": [
    {
     "name": "stdout",
     "output_type": "stream",
     "text": [
      "Entrez l'année dont vous voulez l'information: 2028\n",
      "L'année 2028  est bissextile\n"
     ]
    }
   ],
   "source": [
    "annee=int(input(\"Entrez l'année dont vous voulez l'information: \"))\n",
    "if (annee%4==0 and annee%100==0 and annee%400==0) or (annee%4==0 and annee%100!=0) :\n",
    "    print(\"L'année\",annee, \" est bissextile\")\n",
    "else:\n",
    "    print(\"L'année\", annee, \" n'est pas bissextile\")"
   ]
  },
  {
   "cell_type": "markdown",
   "metadata": {},
   "source": [
    "b)"
   ]
  },
  {
   "cell_type": "code",
   "execution_count": null,
   "metadata": {},
   "outputs": [],
   "source": [
    "annee=int(input(\"Entrez l'année dont vous voulez l'information: \"))\n"
   ]
  },
  {
   "cell_type": "markdown",
   "metadata": {},
   "source": [
    "Q8"
   ]
  },
  {
   "cell_type": "markdown",
   "metadata": {},
   "source": [
    "a)"
   ]
  },
  {
   "cell_type": "code",
   "execution_count": null,
   "metadata": {},
   "outputs": [],
   "source": [
    "n=int(input(\"Entrez un nombre entier naturel: \"))\n",
    "s=0\n",
    "for i in range(n):\n",
    "    s+=i**2\n",
    "s"
   ]
  },
  {
   "cell_type": "code",
   "execution_count": null,
   "metadata": {},
   "outputs": [],
   "source": [
    "s=0\n",
    "i=0\n",
    "while i<=n-1:\n",
    "    s+=i**2\n",
    "    i+=1\n",
    "s"
   ]
  },
  {
   "cell_type": "markdown",
   "metadata": {},
   "source": [
    "b)"
   ]
  },
  {
   "cell_type": "code",
   "execution_count": 9,
   "metadata": {},
   "outputs": [
    {
     "name": "stdout",
     "output_type": "stream",
     "text": [
      "Entrez un nombre entier naturel: 5\n",
      "Le plus petit entier naturel qui vérifie l'inéquation est  2\n"
     ]
    }
   ],
   "source": [
    "M=int(input(\"Entrez un nombre entier naturel: \"))\n",
    "s=0\n",
    "for i in range(10000000000000000000000000000000000):\n",
    "    s+=i**2\n",
    "    if s>=M:\n",
    "        break\n",
    "print(\"Le plus petit entier naturel qui vérifie l'inéquation est \",i)"
   ]
  },
  {
   "cell_type": "code",
   "execution_count": 13,
   "metadata": {},
   "outputs": [
    {
     "name": "stdout",
     "output_type": "stream",
     "text": [
      "Entrez un nombre entier naturel: 10\n",
      "Le plus petit entier naturel qui vérifie l'inéquation est  3\n"
     ]
    }
   ],
   "source": [
    "M=int(input(\"Entrez un nombre entier naturel: \"))\n",
    "s=0\n",
    "i=0\n",
    "while i <=10000000000000000000000000000000000:\n",
    "    s+=i**2\n",
    "    if s>=M:\n",
    "        break\n",
    "    i+=1\n",
    "print(\"Le plus petit entier naturel qui vérifie l'inéquation est \",i)"
   ]
  },
  {
   "cell_type": "markdown",
   "metadata": {},
   "source": [
    "Q9"
   ]
  },
  {
   "cell_type": "markdown",
   "metadata": {},
   "source": [
    "a)"
   ]
  },
  {
   "cell_type": "code",
   "execution_count": null,
   "metadata": {},
   "outputs": [],
   "source": [
    "n=int(input(\"Entrez un nombre entier naturel dont vous voulez connaitre les diviseurs:  \"))\n",
    "print(\"Les diviseurs de \", n, \" sont: \")\n",
    "for i in range (1,n+1):\n",
    "    if n%i==0:\n",
    "        print(i)"
   ]
  },
  {
   "cell_type": "markdown",
   "metadata": {},
   "source": [
    "b)"
   ]
  },
  {
   "cell_type": "code",
   "execution_count": 25,
   "metadata": {},
   "outputs": [
    {
     "name": "stdout",
     "output_type": "stream",
     "text": [
      "Entrez un nombre entier naturel dont vous voulez les facteurs premiers: 60\n",
      "Les facteurs premiers de  60  sont: \n",
      "2\n",
      "3\n",
      "5\n"
     ]
    }
   ],
   "source": [
    "n=int(input(\"Entrez un nombre entier naturel dont vous voulez les facteurs premiers: \"))\n",
    "print(\"Les facteurs premiers de \", n, \" sont: \")\n",
    "for i in range(2,n):\n",
    "    if n%i==0:\n",
    "        k=0\n",
    "        for j in range(2,i):\n",
    "            if i%j==0:\n",
    "                k+=1\n",
    "        if k==0: \n",
    "            print(i)"
   ]
  },
  {
   "cell_type": "markdown",
   "metadata": {},
   "source": [
    "Q10"
   ]
  },
  {
   "cell_type": "code",
   "execution_count": null,
   "metadata": {},
   "outputs": [],
   "source": [
    "n=int(input(\"Entrez un nombre entier naturel compris entre 0 et 9 dont vous voulez la table de Multiplication: \"))\n",
    "N=int(input(\"Entrez l'ordre de la table:  \"))\n",
    "for i in range(N+1):\n",
    "    print(n,\"x\", i,\"=\", n*i, sep=' ')"
   ]
  },
  {
   "cell_type": "markdown",
   "metadata": {},
   "source": [
    "Q11"
   ]
  },
  {
   "cell_type": "code",
   "execution_count": 26,
   "metadata": {},
   "outputs": [
    {
     "name": "stdout",
     "output_type": "stream",
     "text": [
      "0\n",
      "3\n",
      "6\n",
      "7\n",
      "9\n",
      "11\n",
      "12\n",
      "14\n",
      "15\n",
      "18\n",
      "21\n",
      "22\n",
      "24\n",
      "27\n",
      "28\n",
      "30\n",
      "33\n",
      "35\n",
      "36\n",
      "39\n"
     ]
    }
   ],
   "source": [
    "for n in range(41):\n",
    "    if n%3==0 or n%7==0 or n%11==0:\n",
    "        print(n)"
   ]
  },
  {
   "cell_type": "markdown",
   "metadata": {},
   "source": [
    "Q12"
   ]
  },
  {
   "cell_type": "code",
   "execution_count": 8,
   "metadata": {},
   "outputs": [
    {
     "name": "stdout",
     "output_type": "stream",
     "text": [
      "Entrez le nombre dont vous voulez la partie entière:  -1666.999\n",
      "La partie entière de -1666.999 est -1667\n"
     ]
    }
   ],
   "source": [
    "x=float(input(\"Entrez le nombre dont vous voulez la partie entière:  \"))\n",
    "i=-100000\n",
    "while i<=x:\n",
    "    if i<=x and i+1>x:\n",
    "        print(\"La partie entière de\", x, \"est\", i)\n",
    "        break\n",
    "    i+=1"
   ]
  },
  {
   "cell_type": "markdown",
   "metadata": {},
   "source": [
    "Q13"
   ]
  },
  {
   "cell_type": "code",
   "execution_count": 11,
   "metadata": {},
   "outputs": [
    {
     "name": "stdout",
     "output_type": "stream",
     "text": [
      "Entrez les coordonnées de votre point:  \n",
      "0\n",
      "0\n",
      "Votre point est à l'origine.\n",
      "\n",
      "\n",
      "Entrez les coordonnées de votre point:  \n"
     ]
    },
    {
     "ename": "KeyboardInterrupt",
     "evalue": "Interrupted by user",
     "output_type": "error",
     "traceback": [
      "\u001b[0;31m---------------------------------------------------------------------------\u001b[0m",
      "\u001b[0;31mKeyboardInterrupt\u001b[0m                         Traceback (most recent call last)",
      "\u001b[0;32m<ipython-input-11-02d62354e8dd>\u001b[0m in \u001b[0;36m<module>\u001b[0;34m\u001b[0m\n\u001b[1;32m      2\u001b[0m \u001b[0;32mwhile\u001b[0m \u001b[0mi\u001b[0m\u001b[0;34m==\u001b[0m\u001b[0;36m1\u001b[0m\u001b[0;34m:\u001b[0m\u001b[0;34m\u001b[0m\u001b[0;34m\u001b[0m\u001b[0m\n\u001b[1;32m      3\u001b[0m     \u001b[0mprint\u001b[0m\u001b[0;34m(\u001b[0m\u001b[0;34m\"Entrez les coordonnées de votre point:  \"\u001b[0m\u001b[0;34m)\u001b[0m\u001b[0;34m\u001b[0m\u001b[0;34m\u001b[0m\u001b[0m\n\u001b[0;32m----> 4\u001b[0;31m     \u001b[0mx\u001b[0m\u001b[0;34m=\u001b[0m\u001b[0mfloat\u001b[0m\u001b[0;34m(\u001b[0m\u001b[0minput\u001b[0m\u001b[0;34m(\u001b[0m\u001b[0;34m)\u001b[0m\u001b[0;34m)\u001b[0m\u001b[0;34m\u001b[0m\u001b[0;34m\u001b[0m\u001b[0m\n\u001b[0m\u001b[1;32m      5\u001b[0m     \u001b[0my\u001b[0m\u001b[0;34m=\u001b[0m\u001b[0mfloat\u001b[0m\u001b[0;34m(\u001b[0m\u001b[0minput\u001b[0m\u001b[0;34m(\u001b[0m\u001b[0;34m)\u001b[0m\u001b[0;34m)\u001b[0m\u001b[0;34m\u001b[0m\u001b[0;34m\u001b[0m\u001b[0m\n\u001b[1;32m      6\u001b[0m     \u001b[0;32mif\u001b[0m \u001b[0mx\u001b[0m\u001b[0;34m==\u001b[0m\u001b[0;36m0\u001b[0m \u001b[0;32mand\u001b[0m \u001b[0my\u001b[0m\u001b[0;34m==\u001b[0m\u001b[0;36m0\u001b[0m\u001b[0;34m:\u001b[0m\u001b[0;34m\u001b[0m\u001b[0;34m\u001b[0m\u001b[0m\n",
      "\u001b[0;32m~/anaconda3/lib/python3.8/site-packages/ipykernel/kernelbase.py\u001b[0m in \u001b[0;36mraw_input\u001b[0;34m(self, prompt)\u001b[0m\n\u001b[1;32m    858\u001b[0m                 \u001b[0;34m\"raw_input was called, but this frontend does not support input requests.\"\u001b[0m\u001b[0;34m\u001b[0m\u001b[0;34m\u001b[0m\u001b[0m\n\u001b[1;32m    859\u001b[0m             )\n\u001b[0;32m--> 860\u001b[0;31m         return self._input_request(str(prompt),\n\u001b[0m\u001b[1;32m    861\u001b[0m             \u001b[0mself\u001b[0m\u001b[0;34m.\u001b[0m\u001b[0m_parent_ident\u001b[0m\u001b[0;34m,\u001b[0m\u001b[0;34m\u001b[0m\u001b[0;34m\u001b[0m\u001b[0m\n\u001b[1;32m    862\u001b[0m             \u001b[0mself\u001b[0m\u001b[0;34m.\u001b[0m\u001b[0m_parent_header\u001b[0m\u001b[0;34m,\u001b[0m\u001b[0;34m\u001b[0m\u001b[0;34m\u001b[0m\u001b[0m\n",
      "\u001b[0;32m~/anaconda3/lib/python3.8/site-packages/ipykernel/kernelbase.py\u001b[0m in \u001b[0;36m_input_request\u001b[0;34m(self, prompt, ident, parent, password)\u001b[0m\n\u001b[1;32m    902\u001b[0m             \u001b[0;32mexcept\u001b[0m \u001b[0mKeyboardInterrupt\u001b[0m\u001b[0;34m:\u001b[0m\u001b[0;34m\u001b[0m\u001b[0;34m\u001b[0m\u001b[0m\n\u001b[1;32m    903\u001b[0m                 \u001b[0;31m# re-raise KeyboardInterrupt, to truncate traceback\u001b[0m\u001b[0;34m\u001b[0m\u001b[0;34m\u001b[0m\u001b[0;34m\u001b[0m\u001b[0m\n\u001b[0;32m--> 904\u001b[0;31m                 \u001b[0;32mraise\u001b[0m \u001b[0mKeyboardInterrupt\u001b[0m\u001b[0;34m(\u001b[0m\u001b[0;34m\"Interrupted by user\"\u001b[0m\u001b[0;34m)\u001b[0m \u001b[0;32mfrom\u001b[0m \u001b[0;32mNone\u001b[0m\u001b[0;34m\u001b[0m\u001b[0;34m\u001b[0m\u001b[0m\n\u001b[0m\u001b[1;32m    905\u001b[0m             \u001b[0;32mexcept\u001b[0m \u001b[0mException\u001b[0m \u001b[0;32mas\u001b[0m \u001b[0me\u001b[0m\u001b[0;34m:\u001b[0m\u001b[0;34m\u001b[0m\u001b[0;34m\u001b[0m\u001b[0m\n\u001b[1;32m    906\u001b[0m                 \u001b[0mself\u001b[0m\u001b[0;34m.\u001b[0m\u001b[0mlog\u001b[0m\u001b[0;34m.\u001b[0m\u001b[0mwarning\u001b[0m\u001b[0;34m(\u001b[0m\u001b[0;34m\"Invalid Message:\"\u001b[0m\u001b[0;34m,\u001b[0m \u001b[0mexc_info\u001b[0m\u001b[0;34m=\u001b[0m\u001b[0;32mTrue\u001b[0m\u001b[0;34m)\u001b[0m\u001b[0;34m\u001b[0m\u001b[0;34m\u001b[0m\u001b[0m\n",
      "\u001b[0;31mKeyboardInterrupt\u001b[0m: Interrupted by user"
     ]
    }
   ],
   "source": [
    "i=1\n",
    "while i==1:\n",
    "    print(\"Entrez les coordonnées de votre point:  \")\n",
    "    x=float(input())\n",
    "    y=float(input())\n",
    "    if x==0 and y==0:\n",
    "        print(\"Votre point est à l'origine.\")\n",
    "    elif x==0 and y and y!=0:\n",
    "        print(\"Votre point est sur l'axe des ordonnées.\")\n",
    "    elif x!=0 and y==0:\n",
    "        print(\"Votre point est sur l'axe des abscisses.\")\n",
    "    elif x>0 and y>0:\n",
    "        print(\"Votre point est dans le premier cadran.\")\n",
    "    elif x>0 and y<0:\n",
    "        print(\"Votre point est dans le deuxième cadran.\")\n",
    "    elif x<0 and y<0:\n",
    "        print(\"Votre point est dans le troisième cadran.\")\n",
    "    elif x<0 and y>0:\n",
    "        print(\"Votre point est dans le quatrième cadran.\")\n",
    "    print('\\n')"
   ]
  },
  {
   "cell_type": "markdown",
   "metadata": {},
   "source": [
    "Q14"
   ]
  },
  {
   "cell_type": "code",
   "execution_count": 23,
   "metadata": {},
   "outputs": [
    {
     "name": "stdout",
     "output_type": "stream",
     "text": [
      "Entrez un nombre compris entre 0 et 9\n",
      "23\n",
      "Entrez un nombre compris entre 0 et 9\n",
      "9\n",
      "Entrez un autre nombre compris entre 0 et 225 \n",
      "89\n",
      "Les multiples de 9 compris entre  0 et  89 sont: \n",
      "0\n",
      "9\n",
      "18\n",
      "27\n",
      "36\n",
      "45\n",
      "54\n",
      "63\n",
      "72\n",
      "81\n",
      "Voulez continuer? Si oui, tapez 1. Sinon, tapez 0. \n",
      "0\n"
     ]
    }
   ],
   "source": [
    "i=0\n",
    "while i==0:\n",
    "    print(\"Entrez un nombre compris entre 0 et 9\")\n",
    "    x=int(input())\n",
    "    if x not in range(1,10):\n",
    "        continue\n",
    "       # print(\"Entrez un nombre compris entre 0 et 9\")\n",
    "        #x=int(input())\n",
    "    elif x in range(10):\n",
    "        print(\"Entrez un autre nombre compris entre 0 et 225 \")\n",
    "        max=int(input())\n",
    "        if max not in range(256):\n",
    "            continue\n",
    "            #print(\"Entrez un autre nombre compris entre 0 et 225\")\n",
    "           # max=int(input())\n",
    "        elif max in range(256):\n",
    "            print(\"Les multiples de\", x, \"compris entre \",0,\"et \", max, \"sont: \")\n",
    "            for j in range(max+1):\n",
    "                if j%x==0:\n",
    "                    print(j)  \n",
    "    print(\"Voulez continuer? Si oui, tapez 1. Sinon, tapez 0. \")\n",
    "    k=int(input( ))\n",
    "    if k==0:\n",
    "        break"
   ]
  },
  {
   "cell_type": "code",
   "execution_count": null,
   "metadata": {},
   "outputs": [],
   "source": []
  }
 ],
 "metadata": {
  "kernelspec": {
   "display_name": "Python 3",
   "language": "python",
   "name": "python3"
  },
  "language_info": {
   "codemirror_mode": {
    "name": "ipython",
    "version": 3
   },
   "file_extension": ".py",
   "mimetype": "text/x-python",
   "name": "python",
   "nbconvert_exporter": "python",
   "pygments_lexer": "ipython3",
   "version": "3.8.8"
  }
 },
 "nbformat": 4,
 "nbformat_minor": 2
}
