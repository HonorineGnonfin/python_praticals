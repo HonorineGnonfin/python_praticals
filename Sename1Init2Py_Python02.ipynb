{
 "cells": [
  {
   "cell_type": "markdown",
   "id": "f0f8d29d",
   "metadata": {},
   "source": [
    "Functions & Recursions"
   ]
  },
  {
   "cell_type": "markdown",
   "id": "d5734ddf",
   "metadata": {},
   "source": [
    "Q1"
   ]
  },
  {
   "cell_type": "code",
   "execution_count": 29,
   "id": "47b421be",
   "metadata": {},
   "outputs": [
    {
     "name": "stdout",
     "output_type": "stream",
     "text": [
      "Entrez deux nombres réels: \n",
      "1\n",
      "0\n",
      "1.0\n"
     ]
    }
   ],
   "source": [
    "from math import* \n",
    "print(\"Entrez deux nombres réels: \")\n",
    "x=float(input( ))\n",
    "y=float(input( ))\n",
    "f=(sqrt(x**(2+y)))/(1/x+2*sin(y))\n",
    "print(f)"
   ]
  },
  {
   "cell_type": "markdown",
   "id": "cfc2d328",
   "metadata": {},
   "source": [
    "Q2"
   ]
  },
  {
   "cell_type": "code",
   "execution_count": 33,
   "id": "a1be5e21",
   "metadata": {},
   "outputs": [],
   "source": [
    "def ownpowerfn(b,n):\n",
    "    power=1\n",
    "    for i in range(n):\n",
    "        power*=b\n",
    "        \n",
    "    return power"
   ]
  },
  {
   "cell_type": "markdown",
   "id": "922cf796",
   "metadata": {},
   "source": [
    "Si on ne précise pas que b est positif, on preprendra en compte deux cas dans l'implémentation. Alors on ce qui suit."
   ]
  },
  {
   "cell_type": "code",
   "execution_count": 34,
   "id": "cb234257",
   "metadata": {},
   "outputs": [],
   "source": [
    "def ownpowerfn(b,n):\n",
    "    power=1\n",
    "    if n>=0:\n",
    "        for i in range(n):\n",
    "            power*=b\n",
    "    else:\n",
    "        for i in range(abs(n)):\n",
    "            power*=(1/b)\n",
    "    return power"
   ]
  },
  {
   "cell_type": "markdown",
   "id": "6a1c94c2",
   "metadata": {},
   "source": [
    "Q3"
   ]
  },
  {
   "cell_type": "markdown",
   "id": "4fa966cd",
   "metadata": {},
   "source": [
    "a)"
   ]
  },
  {
   "cell_type": "code",
   "execution_count": 37,
   "id": "d2e451a3",
   "metadata": {},
   "outputs": [],
   "source": [
    "def arithmetic_mean(a,b):\n",
    "    moy_arith=(1/2)*(a+b)\n",
    "    return moy_arith\n",
    "def geometric_mean(a,b):\n",
    "    moy_geom=sqrt(a*b)\n",
    "    return moy_geom"
   ]
  },
  {
   "cell_type": "markdown",
   "id": "786197e5",
   "metadata": {},
   "source": [
    "b)"
   ]
  },
  {
   "cell_type": "code",
   "execution_count": 38,
   "id": "7c3deebd",
   "metadata": {},
   "outputs": [],
   "source": [
    "def celcius_to_fahrenheit(tempcel):\n",
    "    tempfahr=(tempcel*9/5)+32\n",
    "    return tempfahr\n",
    "def fahrenheit_to_celcius(tempfahr):\n",
    "    tempcel=(tempfahr-32)*5/9\n",
    "    return tempcel"
   ]
  },
  {
   "cell_type": "markdown",
   "id": "092fda7c",
   "metadata": {},
   "source": [
    "c)"
   ]
  },
  {
   "cell_type": "code",
   "execution_count": 39,
   "id": "68e016d8",
   "metadata": {},
   "outputs": [],
   "source": [
    "def degrees_to_radians(mesure_en_degre):\n",
    "    mesure_en_radian=(mesure_en_degre*pi)/180\n",
    "    return mesure_en_radian\n",
    "def radians_to_degrees(mesure_en_radian):\n",
    "    mesure_en_degre=(mesure_en_radian*180)/pi\n",
    "    return mesure_en_degre"
   ]
  },
  {
   "cell_type": "markdown",
   "id": "4beb00b5",
   "metadata": {},
   "source": [
    "d)"
   ]
  },
  {
   "cell_type": "code",
   "execution_count": 40,
   "id": "bd481c60",
   "metadata": {},
   "outputs": [],
   "source": [
    "def area_and_perimeter(r):\n",
    "    area=r**2*pi\n",
    "    perimeter=2*r*pi\n",
    "    return area, perimeter"
   ]
  },
  {
   "cell_type": "markdown",
   "id": "4486fc7c",
   "metadata": {},
   "source": [
    "Q4"
   ]
  },
  {
   "cell_type": "markdown",
   "id": "c768506e",
   "metadata": {},
   "source": [
    "a)"
   ]
  },
  {
   "cell_type": "code",
   "execution_count": null,
   "id": "26235535",
   "metadata": {},
   "outputs": [],
   "source": [
    "def mean(x,y):\n",
    "    average=0.5*(x+y)\n",
    "    geometric=sqrt(x*y)\n",
    "    print( average,geometric)"
   ]
  },
  {
   "cell_type": "code",
   "execution_count": 41,
   "id": "0bdfb496",
   "metadata": {},
   "outputs": [],
   "source": [
    "def avggeom(x,y):\n",
    "    i=1\n",
    "    while i<=10:\n",
    "        average=0.5*(x+y)\n",
    "        geometric=sqrt(x*y)\n",
    "        print( average,geometric)\n",
    "        x=average\n",
    "        y=geometric\n",
    "        i+=1"
   ]
  },
  {
   "cell_type": "markdown",
   "id": "0279d179",
   "metadata": {},
   "source": [
    "b)"
   ]
  },
  {
   "cell_type": "code",
   "execution_count": 43,
   "id": "bb5eb1cc",
   "metadata": {},
   "outputs": [],
   "source": [
    "def distancefn(point1,point2):\n",
    "    x1=point1[0]\n",
    "    y1=point1[1]\n",
    "    x2=point2[0]\n",
    "    y2=point2[1]\n",
    "    distance=sqrt((x1-x2)**2+(y1-y2)**2)\n",
    "    return distance"
   ]
  },
  {
   "cell_type": "code",
   "execution_count": 44,
   "id": "d88f920a",
   "metadata": {},
   "outputs": [],
   "source": [
    "x1=1.2\n",
    "y1=0\n",
    "x2=9\n",
    "y2=4\n",
    "x3=-6\n",
    "y3=3.4\n",
    "point1=(x1,y1)\n",
    "point2=(x2,y2)\n",
    "point3=(x3,y3)\n",
    "longueur_cote1=distancefn(point1,point2)\n",
    "longueur_cote2=distancefn(point2,point3)\n",
    "longueur_cote3=distancefn(point3,point1)\n",
    "perimeter=longueur_cote1+longueur_cote2+longueur_cote3\n",
    "area=(longueur_cote1*longueur_cote2)/2"
   ]
  },
  {
   "cell_type": "code",
   "execution_count": null,
   "id": "fd9c94ed",
   "metadata": {},
   "outputs": [],
   "source": [
    "import math"
   ]
  },
  {
   "cell_type": "markdown",
   "id": "c6439286",
   "metadata": {},
   "source": [
    "Q5"
   ]
  },
  {
   "cell_type": "code",
   "execution_count": 47,
   "id": "98b45486",
   "metadata": {},
   "outputs": [],
   "source": [
    "def fact2nddeg():\n",
    "    i=1\n",
    "    while i==1:\n",
    "        print(\"Choisissez une option: \",'\\n')\n",
    "        print(\"1. Évaluation de factorielle\",'\\n')\n",
    "        print(\"2. Évaluation d'équation de second degré\",'\\n')\n",
    "        print(\"3.Sortie\")\n",
    "        k=int(input())\n",
    "        if k==1:\n",
    "            print(\"Entrez le nombre dont cherchez la factorielle: \")\n",
    "            n=int(input( ))\n",
    "            factorial(n)\n",
    "            print(\"La factorielle de \",n, \"est \",factorial(n))\n",
    "        elif k==2:\n",
    "            print(\"Entrez les coefficients de votre équation: \")\n",
    "            a=float(input())\n",
    "            b=float(input())\n",
    "            c=float(input())\n",
    "            delta=b**2-4*a*c\n",
    "            if delta>0:\n",
    "                x1=(-b+sqrt(delta))/(2*a)\n",
    "                x2=(-b-sqrt(delta))/(2*a)\n",
    "                print(\"Les solutions de votre équation sont: \",x1,x2)\n",
    "            elif delta==0:\n",
    "                x0=-b/(2*a)\n",
    "                print(\"La solution de votre équation est double et donne: \",x0)\n",
    "            elif delta<0:\n",
    "                print(\"Votre équation n'a pas de solutions réelles.\")\n",
    "            \n",
    "        elif k==3:\n",
    "            break\n",
    "    "
   ]
  },
  {
   "cell_type": "markdown",
   "id": "a5f2bdbf",
   "metadata": {},
   "source": [
    "Q6"
   ]
  },
  {
   "cell_type": "code",
   "execution_count": 50,
   "id": "6384a8ff",
   "metadata": {},
   "outputs": [],
   "source": [
    "def power(x,n):\n",
    "    if n==0:\n",
    "        return 1\n",
    "    if n>0:\n",
    "        return x*power(x,n-1)"
   ]
  },
  {
   "cell_type": "markdown",
   "id": "f4c471ca",
   "metadata": {},
   "source": [
    "Q7"
   ]
  },
  {
   "cell_type": "code",
   "execution_count": null,
   "id": "7cb834d0",
   "metadata": {},
   "outputs": [],
   "source": [
    "def fibonacci(n):\n",
    "    if n==0:\n",
    "        return 0\n",
    "    elif n==1:\n",
    "        return 1\n",
    "    elif n>1:\n",
    "        return fibonacci(n-1)+fibonacci(n-2)"
   ]
  },
  {
   "cell_type": "code",
   "execution_count": null,
   "id": "74523986",
   "metadata": {},
   "outputs": [],
   "source": [
    "354224848179261915075"
   ]
  }
 ],
 "metadata": {
  "kernelspec": {
   "display_name": "Python 3",
   "language": "python",
   "name": "python3"
  },
  "language_info": {
   "codemirror_mode": {
    "name": "ipython",
    "version": 3
   },
   "file_extension": ".py",
   "mimetype": "text/x-python",
   "name": "python",
   "nbconvert_exporter": "python",
   "pygments_lexer": "ipython3",
   "version": "3.8.8"
  }
 },
 "nbformat": 4,
 "nbformat_minor": 5
}
